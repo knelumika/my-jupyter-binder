{
 "cells": [
  {
   "cell_type": "markdown",
   "id": "9f64f0e5",
   "metadata": {},
   "source": [
    "# 🎵 Interactive Sine Wave Plot\n",
    "Play with the sliders to see how frequency, amplitude, and phase affect the sine wave!"
   ]
  },
  {
   "cell_type": "code",
   "execution_count": null,
   "id": "7ba510d7",
   "metadata": {},
   "outputs": [],
   "source": [
    "from sine_wave import plot_sine\n",
    "from ipywidgets import interactive"
   ]
  },
  {
   "cell_type": "code",
   "execution_count": null,
   "id": "55dab363",
   "metadata": {},
   "outputs": [],
   "source": [
    "interactive(plot_sine, frequency=(0.1, 5.0, 0.1), amplitude=(0.1, 2.0, 0.1), phase=(0.0, 3.14, 0.1))"
   ]
  }
 ],
 "metadata": {},
 "nbformat": 4,
 "nbformat_minor": 5
}
